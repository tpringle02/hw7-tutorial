{
 "cells": [
  {
   "cell_type": "code",
   "execution_count": null,
   "metadata": {},
   "outputs": [],
   "source": [
    "#| hide\n",
    "from nbdev_linear_regression_tutorial.core import *"
   ]
  },
  {
   "cell_type": "markdown",
   "metadata": {},
   "source": [
    "# nbdev-linear-regression-tutorial"
   ]
  },
  {
   "cell_type": "markdown",
   "metadata": {},
   "source": [
    "Behold, the NBDEV Linear Regression Tutorial for students of CSCI 435!\n",
    "\n",
    "### Requirements\n",
    "___\n",
    "1. Install JupyterLab\n",
    "   - conda install -c conda-forge -y jupyterlab **OR** pip install jupyterlab\n",
    "2. Install nbdev\n",
    "   - **Mac and Linux**:\n",
    "      - conda install -c fastai -y nbdev **OR** pip install nbdev\n",
    "   - **Windows**:\n",
    "      - pip install nbdev==2.3.7\n",
    "3. Install quarto\n",
    "   - nvdev_install_quarto\n",
    "      - Windows will redirect you to install it at the Quarto website\n",
    "      - **Make sure to restart your terminal afterwards**\n",
    "   - pip install jupyterlab-quarto\n",
    "4. Install the required modules if you don't have them already\n",
    "   - Use either pip or conda\n",
    "   - matplotlib and numpy\n",
    "   - Python has csv and datetime already\n",
    "\n",
    "### Tutorial Steps\n",
    "___\n",
    "1. Create a new repository and clone it to your computer\n",
    "2. Go to the terminal and make sure you're in your repo's directory\n",
    "3. Run `nbdev_new` to generate necessary files\n",
    "4. Replace `nbs/00_core.ipynb` and `nbs/index.ipynb` with the ones in this repository, and add `shampoo.csv` into the `nbs` folder\n",
    "5. Run `nbdev_readme` to generate a README.md that should look like this one\n",
    "6. Run `jupyter lab` in the repository\n",
    "7. Program `nbs/00_core.ipynb` such that everything works properly and save your PDF\n",
    "8. Run `nbdev_install_hooks`\n",
    "9. Push your changes to your Github\n",
    "10. Go to your Github Settings, click `Deploy from a branch`, and select `gh-pages`.\n",
    "11. Return to Github Code, click the gear on About, and set the website to Github Pages\n",
    "12. Send the PDF and your Github Pages website to Alejandro and CC Prof. Poshyvanyk!\n",
    "\n",
    "### Resources Utilized\n",
    "___\n",
    "- https://nbdev.fast.ai/tutorials/tutorial.html\n",
    "- https://jmp75.github.io/work-blog/posts/20221007-nbdev-windows/\n",
    "   - nbdev isn't actually designed for Windows but this madlad somehow made it work anyways\n",
    "\n",
    "P.S. I wrote this entire tutorial in one night. \n"
   ]
  }
 ],
 "metadata": {
  "kernelspec": {
   "display_name": "Python 3 (ipykernel)",
   "language": "python",
   "name": "python3"
  },
  "language_info": {
   "codemirror_mode": {
    "name": "ipython",
    "version": 3
   },
   "file_extension": ".py",
   "mimetype": "text/x-python",
   "name": "python",
   "nbconvert_exporter": "python",
   "pygments_lexer": "ipython3",
   "version": "3.11.5"
  }
 },
 "nbformat": 4,
 "nbformat_minor": 4
}
